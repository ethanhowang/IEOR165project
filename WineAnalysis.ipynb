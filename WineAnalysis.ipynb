{
 "cells": [
  {
   "cell_type": "markdown",
   "metadata": {},
   "source": [
    "# Wine Analysis Project\n",
    "## Methods\n",
    " - Ordinary Least Squares (OLS)\n",
    " - Ridge Regression (RR)\n",
    " - Lasso Regression"
   ]
  },
  {
   "cell_type": "code",
   "execution_count": 30,
   "metadata": {},
   "outputs": [],
   "source": [
    "import pandas as pd\n",
    "import matplotlib\n",
    "import matplotlib.pyplot as plt\n",
    "import numpy as np\n",
    "from scipy.linalg import lstsq"
   ]
  },
  {
   "cell_type": "code",
   "execution_count": 31,
   "metadata": {},
   "outputs": [
    {
     "name": "stdout",
     "output_type": "stream",
     "text": [
      "     \"fixed acidity\";\"volatile acidity\";\"citric acid\";\"residual sugar\";\"chlorides\";\"free sulfur dioxide\";\"total sulfur dioxide\";\"density\";\"pH\";\"sulphates\";\"alcohol\";\"quality\"\n",
      "0      7.4;0.7;0;1.9;0.076;11;34;0.9978;3.51;0.56;9.4;5                                                                                                                       \n",
      "1      7.8;0.88;0;2.6;0.098;25;67;0.9968;3.2;0.68;9.8;5                                                                                                                       \n",
      "2     7.8;0.76;0.04;2.3;0.092;15;54;0.997;3.26;0.65;...                                                                                                                       \n",
      "3     11.2;0.28;0.56;1.9;0.075;17;60;0.998;3.16;0.58...                                                                                                                       \n",
      "4      7.4;0.7;0;1.9;0.076;11;34;0.9978;3.51;0.56;9.4;5                                                                                                                       \n",
      "...                                                 ...                                                                                                                       \n",
      "1594  6.2;0.6;0.08;2;0.09;32;44;0.9949;3.45;0.58;10.5;5                                                                                                                       \n",
      "1595  5.9;0.55;0.1;2.2;0.062;39;51;0.99512;3.52;0.76...                                                                                                                       \n",
      "1596  6.3;0.51;0.13;2.3;0.076;29;40;0.99574;3.42;0.7...                                                                                                                       \n",
      "1597  5.9;0.645;0.12;2;0.075;32;44;0.99547;3.57;0.71...                                                                                                                       \n",
      "1598  6;0.31;0.47;3.6;0.067;18;42;0.99549;3.39;0.66;...                                                                                                                       \n",
      "\n",
      "[1599 rows x 1 columns]\n"
     ]
    }
   ],
   "source": [
    "df = pd.read_excel (r'C:\\IEOR165project\\winequality-red.xlsx')\n",
    "print(df)"
   ]
  },
  {
   "cell_type": "code",
   "execution_count": 32,
   "metadata": {},
   "outputs": [
    {
     "name": "stdout",
     "output_type": "stream",
     "text": [
      "<class 'str'>\n",
      "['7.4', '0.7', '0', '1.9', '0.076', '11', '34', '0.9978', '3.51', '0.56', '9.4', '5']\n",
      "['0.56', '9.4', '5']\n",
      "[1000, '9.4', '5']\n",
      "['7.4', '0.7', '0', '1.9', '0.076', '11', '34', '0.9978', '3.51', '0.56', '9.4', '5']\n"
     ]
    }
   ],
   "source": [
    "#reorganizing data\n",
    "\n",
    "data = pd.read_excel (r'C:\\IEOR165project\\winequality-red.xlsx')\n",
    "\n",
    "#new_data should consist of rows of each wine based on different features\n",
    "\n",
    "new_data = data['\"fixed acidity\";\"volatile acidity\";\"citric acid\";\"residual sugar\";\"chlorides\";\"free sulfur dioxide\";\"total sulfur dioxide\";\"density\";\"pH\";\"sulphates\";\"alcohol\";\"quality\"'].str.split(';')\n",
    "\n",
    "#use colnames to keep track\n",
    "\n",
    "colnames = [\"fixed acidity\",\"volatile acidity\",\"citric acid\",\"residual sugar\",\"chlorides\",\"free sulfur dioxide\",\"total sulfur dioxide\",\"density\",\"pH\",\"sulphates\",\"alcohol\",\"quality\"]\n",
    "\n",
    "#testing of new_data\n",
    "print(type(new_data.iloc[0][11]))\n",
    "\n",
    "newlist = new_data.iloc[0]\n",
    "print(newlist)\n",
    "alterlist = newlist[-3:]\n",
    "print(alterlist)\n",
    "alterlist[0] = 1000\n",
    "print(alterlist)\n",
    "print(newlist)\n"
   ]
  },
  {
   "cell_type": "markdown",
   "metadata": {},
   "source": [
    "## Creating Matrices from Data"
   ]
  },
  {
   "cell_type": "code",
   "execution_count": 54,
   "metadata": {
    "scrolled": false
   },
   "outputs": [
    {
     "name": "stdout",
     "output_type": "stream",
     "text": [
      "(1599, 12)\n",
      "(1599, 1)\n",
      "[[ 2.19652084e+01]\n",
      " [ 2.49905527e-02]\n",
      " [-1.08359026e+00]\n",
      " [-1.82563948e-01]\n",
      " [ 1.63312698e-02]\n",
      " [-1.87422516e+00]\n",
      " [ 4.36133331e-03]\n",
      " [-3.26457970e-03]\n",
      " [-1.78811638e+01]\n",
      " [-4.13653144e-01]\n",
      " [ 9.16334413e-01]\n",
      " [ 2.76197699e-01]]\n"
     ]
    }
   ],
   "source": [
    "featurelist = []\n",
    "qualitylist = []\n",
    "\n",
    "# create matrix for features\n",
    "for i in range(len(new_data)):\n",
    "    addlist = new_data[i][:11]\n",
    "    floatlist = [float(x) for x in addlist]\n",
    "    coefflist = [1]\n",
    "    coefflist.extend(floatlist)\n",
    "    featurelist.append(coefflist)\n",
    "    \n",
    "# create matrix for quality column \n",
    "for j in range(len(new_data)):\n",
    "    addlist = [float(new_data[j][-1])]\n",
    "    qualitylist.append(addlist)\n",
    "    \n",
    "\n",
    "    \n",
    "xmatrix = np.array(featurelist)\n",
    "ymatrix = np.array(qualitylist)\n",
    "\n",
    "#OLS computation\n",
    "B = lstsq(xmatrix, ymatrix)\n",
    "print(xmatrix.shape)\n",
    "print(ymatrix.shape)\n",
    "print(B[0])\n",
    "\n",
    "# testing\n",
    "# print(max_quality)\n",
    "# print(featurelist)\n",
    "# print(qualitylist)\n",
    "# print(xmatrix.shape)\n",
    "# print(ymatrix.shape)\n",
    "\n",
    "#write into excel \n",
    "df1 = pd.DataFrame(B[0], index=[\"B0\", \"fixed acidity\",\"volatile acidity\",\"citric acid\",\"residual sugar\",\"chlorides\",\"free sulfur dioxide\",\"total sulfur dioxide\",\"density\",\"pH\",\"sulphates\",\"alcohol\"], columns=[\"coefficients\"])\n",
    "df1.to_excel(\"coeff_OLS.xlsx\")"
   ]
  },
  {
   "cell_type": "markdown",
   "metadata": {},
   "source": [
    "## Measuring Error from OLS"
   ]
  },
  {
   "cell_type": "code",
   "execution_count": 59,
   "metadata": {},
   "outputs": [
    {
     "data": {
      "image/png": "[encoded data removed]",
      "text/plain": [
       "<Figure size 432x288 with 1 Axes>"
      ]
     },
     "metadata": {
      "needs_background": "light"
     },
     "output_type": "display_data"
    },
    {
     "data": {
      "image/png": "[encoded data removed]",
      "text/plain": [
       "<Figure size 432x288 with 1 Axes>"
      ]
     },
     "metadata": {
      "needs_background": "light"
     },
     "output_type": "display_data"
    }
   ],
   "source": [
    "params = B[0]\n",
    "estimatelist = []\n",
    "realvalues = qualitylist\n",
    "errors = []\n",
    "for i in range(len(xmatrix)):\n",
    "    estimate = np.matmul(xmatrix[i], params)\n",
    "    estimatelist.extend(estimate)\n",
    "    errors.extend(abs(estimate - qualitylist[i]))\n",
    "\n",
    "    \n",
    "x = realvalues\n",
    "y = estimatelist\n",
    "\n",
    "\n",
    "plt.scatter(x, y, alpha=0.5)\n",
    "plt.title('Real vs. Estimate Comparison')\n",
    "plt.xlabel('Real')\n",
    "plt.ylabel('Estimate')\n",
    "plt.show()\n",
    "\n",
    "\n",
    "Wine = [x for x in range(1, 1600)]\n",
    "Error_Estimate = errors\n",
    "\n",
    "plt.bar(Wine, Error_Estimate)\n",
    "plt.title('Wine vs. Error Estimate')\n",
    "plt.xlabel('Wine')\n",
    "plt.ylabel('Error')\n",
    "plt.show()\n",
    "    \n",
    "    "
   ]
  },
  {
   "cell_type": "code",
   "execution_count": null,
   "metadata": {},
   "outputs": [],
   "source": []
  }
 ],
 "metadata": {
  "kernelspec": {
   "display_name": "Python 3",
   "language": "python",
   "name": "python3"
  },
  "language_info": {
   "codemirror_mode": {
    "name": "ipython",
    "version": 3
   },
   "file_extension": ".py",
   "mimetype": "text/x-python",
   "name": "python",
   "nbconvert_exporter": "python",
   "pygments_lexer": "ipython3",
   "version": "3.8.3"
  }
 },
 "nbformat": 4,
 "nbformat_minor": 4
}
