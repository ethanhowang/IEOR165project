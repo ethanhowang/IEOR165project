{
 "cells": [
  {
   "cell_type": "markdown",
   "metadata": {},
   "source": [
    "# Wine Analysis Project\n",
    "## Methods\n",
    " - Ordinary Least Squares (OLS) *\n",
    " - Ridge Regression (RR)\n",
    " - Lasso Regression"
   ]
  },
  {
   "cell_type": "markdown",
   "metadata": {},
   "source": [
    "## Preface\n",
    "<b>  I am Ethan Wang and this is my first IEOR class.  This is my first time using sklearn and matplotlib, so I had quite a difficult time adapting to all the functions within sklearn.  I spent an unnecessary amount of time manually coding out the entire Leave k-out cross validation algorithm without realizing their are functions that can abstract away those algorithms.  While I had fun coding, it was difficult for me to design and analyze an entire project on the premise of unfamiliar territory. I did my best to outline every step I took in this process throughout the coding procedures, and I hope readers are able to see the detail and effort I put into this work. Thank you </b>"
   ]
  },
  {
   "cell_type": "code",
   "execution_count": 1,
   "metadata": {},
   "outputs": [],
   "source": [
    "import pandas as pd\n",
    "import matplotlib\n",
    "import matplotlib.pyplot as plt\n",
    "import numpy as np\n",
    "from scipy.linalg import lstsq"
   ]
  },
  {
   "cell_type": "code",
   "execution_count": 2,
   "metadata": {},
   "outputs": [
    {
     "name": "stdout",
     "output_type": "stream",
     "text": [
      "     \"fixed acidity\";\"volatile acidity\";\"citric acid\";\"residual sugar\";\"chlorides\";\"free sulfur dioxide\";\"total sulfur dioxide\";\"density\";\"pH\";\"sulphates\";\"alcohol\";\"quality\"\n",
      "0      7.4;0.7;0;1.9;0.076;11;34;0.9978;3.51;0.56;9.4;5                                                                                                                       \n",
      "1      7.8;0.88;0;2.6;0.098;25;67;0.9968;3.2;0.68;9.8;5                                                                                                                       \n",
      "2     7.8;0.76;0.04;2.3;0.092;15;54;0.997;3.26;0.65;...                                                                                                                       \n",
      "3     11.2;0.28;0.56;1.9;0.075;17;60;0.998;3.16;0.58...                                                                                                                       \n",
      "4      7.4;0.7;0;1.9;0.076;11;34;0.9978;3.51;0.56;9.4;5                                                                                                                       \n",
      "...                                                 ...                                                                                                                       \n",
      "1594  6.2;0.6;0.08;2;0.09;32;44;0.9949;3.45;0.58;10.5;5                                                                                                                       \n",
      "1595  5.9;0.55;0.1;2.2;0.062;39;51;0.99512;3.52;0.76...                                                                                                                       \n",
      "1596  6.3;0.51;0.13;2.3;0.076;29;40;0.99574;3.42;0.7...                                                                                                                       \n",
      "1597  5.9;0.645;0.12;2;0.075;32;44;0.99547;3.57;0.71...                                                                                                                       \n",
      "1598  6;0.31;0.47;3.6;0.067;18;42;0.99549;3.39;0.66;...                                                                                                                       \n",
      "\n",
      "[1599 rows x 1 columns]\n"
     ]
    }
   ],
   "source": [
    "df = pd.read_excel (r'C:\\IEOR165project\\winequality-red.xlsx')\n",
    "print(df)"
   ]
  },
  {
   "cell_type": "code",
   "execution_count": 3,
   "metadata": {},
   "outputs": [
    {
     "name": "stdout",
     "output_type": "stream",
     "text": [
      "<class 'str'>\n",
      "['7.4', '0.7', '0', '1.9', '0.076', '11', '34', '0.9978', '3.51', '0.56', '9.4', '5']\n",
      "['0.56', '9.4', '5']\n",
      "[1000, '9.4', '5']\n",
      "['7.4', '0.7', '0', '1.9', '0.076', '11', '34', '0.9978', '3.51', '0.56', '9.4', '5']\n"
     ]
    }
   ],
   "source": [
    "#reorganizing data\n",
    "\n",
    "data = pd.read_excel (r'C:\\IEOR165project\\winequality-red.xlsx')\n",
    "\n",
    "#new_data should consist of rows of each wine based on different features\n",
    "\n",
    "new_data = data['\"fixed acidity\";\"volatile acidity\";\"citric acid\";\"residual sugar\";\"chlorides\";\"free sulfur dioxide\";\"total sulfur dioxide\";\"density\";\"pH\";\"sulphates\";\"alcohol\";\"quality\"'].str.split(';')\n",
    "\n",
    "#use colnames to keep track\n",
    "\n",
    "colnames = [\"fixed acidity\",\"volatile acidity\",\"citric acid\",\"residual sugar\",\"chlorides\",\"free sulfur dioxide\",\"total sulfur dioxide\",\"density\",\"pH\",\"sulphates\",\"alcohol\",\"quality\"]\n",
    "\n",
    "#testing of new_data\n",
    "print(type(new_data.iloc[0][11]))\n",
    "\n",
    "newlist = new_data.iloc[0]\n",
    "print(newlist)\n",
    "alterlist = newlist[-3:]\n",
    "print(alterlist)\n",
    "alterlist[0] = 1000\n",
    "print(alterlist)\n",
    "print(newlist)\n"
   ]
  },
  {
   "cell_type": "markdown",
   "metadata": {},
   "source": [
    "## OLS Computation"
   ]
  },
  {
   "cell_type": "code",
   "execution_count": 87,
   "metadata": {
    "scrolled": false
   },
   "outputs": [
    {
     "name": "stdout",
     "output_type": "stream",
     "text": [
      "(1599, 12)\n",
      "(1599, 1)\n",
      "[[ 2.19652084e+01]\n",
      " [ 2.49905527e-02]\n",
      " [-1.08359026e+00]\n",
      " [-1.82563948e-01]\n",
      " [ 1.63312698e-02]\n",
      " [-1.87422516e+00]\n",
      " [ 4.36133331e-03]\n",
      " [-3.26457970e-03]\n",
      " [-1.78811638e+01]\n",
      " [-4.13653144e-01]\n",
      " [ 9.16334413e-01]\n",
      " [ 2.76197699e-01]]\n",
      "[666.41070039]\n"
     ]
    }
   ],
   "source": [
    "featurelist = []\n",
    "nocoeffeatures = []\n",
    "qualitylist = []\n",
    "alltgt = []\n",
    "\n",
    "# create matrix for features\n",
    "for i in range(len(new_data)):\n",
    "    addlist = new_data[i][:11]\n",
    "    floatlist = [float(x) for x in addlist]\n",
    "    nocoeffeatures.append(floatlist)\n",
    "    coefflist = [1]\n",
    "    coefflist.extend(floatlist)\n",
    "    featurelist.append(coefflist)\n",
    "    \n",
    "# create matrix for quality column \n",
    "for j in range(len(new_data)):\n",
    "    addlist = [float(new_data[j][-1])]\n",
    "    qualitylist.append(addlist)\n",
    "\n",
    "for k in range(len(new_data)):\n",
    "    addlist = new_data[k]\n",
    "    floatlist = [float(y) for y in addlist]\n",
    "    alltgt.append(floatlist)\n",
    "    \n",
    "\n",
    "    \n",
    "xmatrix = np.array(featurelist)\n",
    "ymatrix = np.array(qualitylist)\n",
    "\n",
    "#OLS computation\n",
    "B = lstsq(xmatrix, ymatrix)\n",
    "print(xmatrix.shape)\n",
    "print(ymatrix.shape)\n",
    "print(B[0])\n",
    "print(B[1])\n",
    "\n",
    "# testing\n",
    "# print(max_quality)\n",
    "# print(featurelist)\n",
    "# print(qualitylist)\n",
    "# print(xmatrix.shape)\n",
    "# print(ymatrix.shape)\n",
    "\n",
    "#write into excel \n",
    "df1 = pd.DataFrame(B[0], index=[\"B0\", \"fixed acidity\",\"volatile acidity\",\"citric acid\",\"residual sugar\",\"chlorides\",\"free sulfur dioxide\",\"total sulfur dioxide\",\"density\",\"pH\",\"sulphates\",\"alcohol\"], columns=[\"coefficients\"])\n",
    "df1.to_excel(\"coeff_OLS.xlsx\")\n",
    "df2 = pd.DataFrame(alltgt, columns=[\"fixed acidity\",\"volatile acidity\",\"citric acid\",\"residual sugar\",\"chlorides\",\"free sulfur dioxide\",\"total sulfur dioxide\",\"density\",\"pH\",\"sulphates\",\"alcohol\",\"quality\"])\n",
    "df2.to_excel(\"winequality-final.xlsx\")"
   ]
  },
  {
   "cell_type": "markdown",
   "metadata": {},
   "source": [
    "## Measuring Error from OLS"
   ]
  },
  {
   "cell_type": "code",
   "execution_count": 5,
   "metadata": {},
   "outputs": [
    {
     "data": {
      "image/png": "[encoded data removed]",
      "text/plain": [
       "<Figure size 432x288 with 1 Axes>"
      ]
     },
     "metadata": {
      "needs_background": "light"
     },
     "output_type": "display_data"
    },
    {
     "data": {
      "image/png": "[encoded data removed]",
      "text/plain": [
       "<Figure size 432x288 with 1 Axes>"
      ]
     },
     "metadata": {
      "needs_background": "light"
     },
     "output_type": "display_data"
    }
   ],
   "source": [
    "params = B[0]\n",
    "estimatelist = []\n",
    "realvalues = qualitylist\n",
    "errors = []\n",
    "for i in range(len(xmatrix)):\n",
    "    estimate = np.matmul(xmatrix[i], params)\n",
    "    estimatelist.extend(estimate)\n",
    "    errors.extend(abs(estimate - qualitylist[i]))\n",
    "\n",
    "    \n",
    "x = realvalues\n",
    "y = estimatelist\n",
    "\n",
    "\n",
    "plt.scatter(x, y, alpha=0.5)\n",
    "plt.title('Real vs. Estimate Comparison')\n",
    "plt.xlabel('Real')\n",
    "plt.ylabel('Estimate')\n",
    "plt.show()\n",
    "\n",
    "\n",
    "Wine = [x for x in range(1, 1600)]\n",
    "Error_Estimate = errors\n",
    "\n",
    "plt.bar(Wine, Error_Estimate)\n",
    "plt.title('Wine vs. Error Estimate')\n",
    "plt.xlabel('Wine')\n",
    "plt.ylabel('Error')\n",
    "plt.show()\n",
    "    \n",
    "    "
   ]
  },
  {
   "cell_type": "markdown",
   "metadata": {},
   "source": [
    "## Method and Observation (OLS)\n",
    "<b> Through this method, I set up matrices for the features, excluding quality, and the one dimensional matrix for quality scores.  Using these two matrices, I was able to use the lstsq function from the scipy library to compute the least squared estimate of the features correlating to wine quality.  Although the total residual value (666.41) is quite high, but considering that there are 1599 samples of wine, having a total error estimate of 666.41 is not too bad.  This meant that on average, there's a 0.41 off error using the estimated parameters in estimating wine quality with every row of data.  With a quality scale ranging from 3 to 8, this is considered a decent estimate. </b>"
   ]
  },
  {
   "cell_type": "markdown",
   "metadata": {},
   "source": [
    "# Ridge Regression Computation\n",
    " - Leave k-Out Cross-Validation"
   ]
  },
  {
   "cell_type": "code",
   "execution_count": 57,
   "metadata": {},
   "outputs": [],
   "source": [
    "from sklearn import linear_model\n",
    "from sklearn import preprocessing\n",
    "from statistics import mean"
   ]
  },
  {
   "cell_type": "code",
   "execution_count": 58,
   "metadata": {
    "scrolled": false
   },
   "outputs": [
    {
     "name": "stdout",
     "output_type": "stream",
     "text": [
      "3\n",
      "[ 2.19652084e+01  2.49905527e-02 -1.08359026e+00 -1.82563948e-01\n",
      "  1.63312698e-02 -1.87422516e+00  4.36133331e-03 -3.26457970e-03\n",
      " -1.78811638e+01 -4.13653144e-01  9.16334413e-01  2.76197699e-01]\n"
     ]
    },
    {
     "data": {
      "text/plain": [
       "5.032850452145844"
      ]
     },
     "execution_count": 58,
     "metadata": {},
     "output_type": "execute_result"
    }
   ],
   "source": [
    "# modifying to reflect sklearn computing framework\n",
    "# qualitylist = quality of all 1599 wines in an int array\n",
    "# modxmatrix = feature matrix without additional 1 for B0 coefficient\n",
    "# nocoeffeatures = list of lists that contain feature data without the B0 coefficient \n",
    "modxmatrix = np.array(nocoeffeatures)\n",
    "\n",
    "scale = preprocessing.scale(nocoeffeatures)\n",
    "# print(scale)\n",
    "\n",
    "print(mean([1, 2, 3, 4, 5]))\n",
    "\n",
    "reg = linear_model.Ridge(alpha=0)\n",
    "reg.fit(modxmatrix, ymatrix)\n",
    "modcoeffs = np.concatenate((reg.intercept_, reg.coef_), axis=None)\n",
    "print(modcoeffs)\n",
    "# print(reg.intercept_)\n",
    "np.matmul(modcoeffs, np.array(featurelist[4]))"
   ]
  },
  {
   "cell_type": "markdown",
   "metadata": {},
   "source": [
    "<b> In the following cell above, I have tested the ridge regression model and made sure the computation steps were correct.  When I set alpha equal to 0, the coefficients that were computed matched my OLS computation exactly, which demonstrated that the steps were correct. </b>"
   ]
  },
  {
   "cell_type": "code",
   "execution_count": 114,
   "metadata": {
    "scrolled": true
   },
   "outputs": [
    {
     "name": "stdout",
     "output_type": "stream",
     "text": [
      "1\n",
      "[3472.19920208]\n"
     ]
    }
   ],
   "source": [
    "# using tuning parameters from 1 to 200 inclusive\n",
    "tuningps = [i for i in range(1, 200)]\n",
    "\n",
    "# function for calculating the best tuning parameter\n",
    "errors = [0 for i in tuningps]    \n",
    "\n",
    "# we will use 10 repetitions\n",
    "for i in range(10):\n",
    "    sample1 = np.random.choice(len(nocoeffeatures), len(new_data) // 2, replace=False)\n",
    "    for j in tuningps:\n",
    "        # doing ridge on sample1\n",
    "        rxlist = []\n",
    "        rylist = []\n",
    "        \n",
    "        # creating matrices\n",
    "        for k in sample1:\n",
    "            rxlist.append(nocoeffeatures[k])\n",
    "            rylist.append(qualitylist[k])\n",
    "        rxmatrix = np.array(rxlist)\n",
    "        rymatrix = np.array(rylist)\n",
    "        \n",
    "        # performing ridge regression computation\n",
    "        reg = linear_model.Ridge(alpha=j)\n",
    "        reg.fit(rxmatrix, rymatrix)\n",
    "        modcoeffs = np.concatenate((reg.intercept_, reg.coef_), axis=None)\n",
    "        \n",
    "        # computing total error for each tuning parameter\n",
    "        for x in range(len(new_data)):\n",
    "            if x not in sample1:\n",
    "                estimate = np.matmul(modcoeffs, np.array(featurelist[x]))\n",
    "                pointerror = (estimate - qualitylist[x])**2\n",
    "                errindex = tuningps.index(j)\n",
    "                errors[errindex] += pointerror\n",
    "                \n",
    "# finding the best tuning parameter and printing it out\n",
    "\n",
    "# least_error_total = min(errors)\n",
    "tuningindex = errors.index(min(errors))\n",
    "print(tuningps[tuningindex])\n",
    "print(min(errors))\n",
    "\n",
    "\n",
    "        \n",
    "            \n",
    "            "
   ]
  },
  {
   "cell_type": "markdown",
   "metadata": {},
   "source": [
    "## Analysis\n",
    "<b> In the above cell, I've designed the Leave k-out cross-validation algorithm to perform the computation of trying to find the correct and best tuning parameter to help perform our analysis.  For every iteration of distinct tuning parameter, of which I listed from 1 to 200, I randomly selected half of the 1599 datapoints to perform ridge regression through the sklearn library.  Then, in order to compute the quality of the estimation, I used the remaining half of the data to compute the total error using the computed parameters to estimate the quality values.  Interestingly enough, the best tuning parameter turned out to be the lowest one.  I will attempt to graph scattet plots and line plots to investigate the relationship between tuning parameters and estimation error further in the following cell. </b>"
   ]
  },
  {
   "cell_type": "code",
   "execution_count": 74,
   "metadata": {},
   "outputs": [
    {
     "data": {
      "image/png": "[encoded data removed]",
      "text/plain": [
       "<Figure size 432x288 with 1 Axes>"
      ]
     },
     "metadata": {
      "needs_background": "light"
     },
     "output_type": "display_data"
    }
   ],
   "source": [
    "# for scatter plot\n",
    "\n",
    "x = tuningps\n",
    "y = []\n",
    "for i in range(len(errors)):\n",
    "    y.append(errors[i][0])\n",
    "    \n",
    "\n",
    "plt.scatter(x, y, alpha=0.5)\n",
    "plt.title('Tuning Parameter vs. Error Comparison')\n",
    "plt.xlabel('Tuning Parameter')\n",
    "plt.ylabel('Total Error')\n",
    "plt.show()"
   ]
  },
  {
   "cell_type": "markdown",
   "metadata": {},
   "source": [
    "## Analysis\n",
    "<b> As you can see from this graph, increasing the tuning parameter consistently increases the total error of the estimated parameter.  Before we make the conclusion that 1 is the best tuning parameter, let's try significantly larger tuning parameters, and see how that affects the total error computation. If we don't see improvement in the error estimation, we may try standardizing the independent variables before computing ridge regression. </b>"
   ]
  },
  {
   "cell_type": "code",
   "execution_count": 75,
   "metadata": {},
   "outputs": [
    {
     "data": {
      "image/png": "[encoded data removed]",
      "text/plain": [
       "<Figure size 432x288 with 1 Axes>"
      ]
     },
     "metadata": {
      "needs_background": "light"
     },
     "output_type": "display_data"
    }
   ],
   "source": [
    "# using tuning parameters from 300 to 700 by steps of 4, so there are 100 total tuning parameters\n",
    "tuningps = [i for i in range(300, 701, 4)]\n",
    "\n",
    "# function for calculating the best tuning parameter\n",
    "errors = [0 for i in tuningps]    \n",
    "\n",
    "# we will use 10 repetitions\n",
    "for i in range(10):\n",
    "    sample1 = np.random.choice(len(nocoeffeatures), len(new_data) // 2, replace=False)\n",
    "    for j in tuningps:\n",
    "        # doing ridge on sample1\n",
    "        rxlist = []\n",
    "        rylist = []\n",
    "        \n",
    "        # creating matrices\n",
    "        for k in sample1:\n",
    "            rxlist.append(nocoeffeatures[k])\n",
    "            rylist.append(qualitylist[k])\n",
    "        rxmatrix = np.array(rxlist)\n",
    "        rymatrix = np.array(rylist)\n",
    "        \n",
    "        # performing ridge regression computation\n",
    "        reg = linear_model.Ridge(alpha=j)\n",
    "        reg.fit(rxmatrix, rymatrix)\n",
    "        modcoeffs = np.concatenate((reg.intercept_, reg.coef_), axis=None)\n",
    "        \n",
    "        # computing total error for each tuning parameter\n",
    "        for x in range(len(new_data)):\n",
    "            if x not in sample1:\n",
    "                estimate = np.matmul(modcoeffs, np.array(featurelist[x]))\n",
    "                pointerror = (estimate - qualitylist[x])**2\n",
    "                errindex = tuningps.index(j)\n",
    "                errors[errindex] += pointerror\n",
    "                \n",
    "# scatter plot graphing\n",
    "x = tuningps\n",
    "y = []\n",
    "for i in range(len(errors)):\n",
    "    y.append(errors[i][0])\n",
    "    \n",
    "\n",
    "plt.scatter(x, y, alpha=0.5)\n",
    "plt.title('Tuning Parameter vs. Error Comparison')\n",
    "plt.xlabel('Tuning Parameter')\n",
    "plt.ylabel('Total Error')\n",
    "plt.show()"
   ]
  },
  {
   "cell_type": "markdown",
   "metadata": {},
   "source": [
    "## Analysis\n",
    "<b> Now, it is clear to us that the higher the tuning parameter, the larger the total error will be.  So, we need to consider standardizing the variables to perhaps find better parameters.  One justification as to why standardizing the independent variables would be helpful is because the features related to the wine are based off from different scales.  For example, pH is on a scale from 0-14, while density does not seem to go below 0.90 or above 1.  So, to treat each feature fairly, we should standardize them so that each variable is subject relatively to the same scale, so the computation during ridge regression can be more accurate.  Once we standardize them, however, we have to make sure to undo the standardization once we calculate our parameters, to reveal the true parameters based on the original scale. </b>"
   ]
  },
  {
   "cell_type": "code",
   "execution_count": 105,
   "metadata": {},
   "outputs": [
    {
     "name": "stdout",
     "output_type": "stream",
     "text": [
      "{'fixed acidity': 8.319637273295838, 'volatile acidity': 0.5278205128205131, 'citric acid': 0.2709756097560964, 'residual sugar': 2.5388055034396517, 'chlorides': 0.08746654158849257, 'free sulfur dioxide': 15.874921826141339, 'total sulfur dioxide': 46.46779237023139, 'density': 0.9967466791744831, 'pH': 3.311113195747343, 'sulphates': 0.6581488430268921, 'alcohol': 10.422983114446502, 'quality': 5.6360225140712945}\n",
      "{'fixed acidity': 1.7405518001102784, 'volatile acidity': 0.17900370424468975, 'citric acid': 0.1947402144523329, 'residual sugar': 1.4094871124880504, 'chlorides': 0.04705058260331576, 'free sulfur dioxide': 10.456885614930723, 'total sulfur dioxide': 32.88503665178367, 'density': 0.0018867437008323919, 'pH': 0.15433818141060152, 'sulphates': 0.16945396724179526, 'alcohol': 1.0653343003437463, 'quality': 0.8073168769639486}\n"
     ]
    }
   ],
   "source": [
    "# figure out undoing of standardization\n",
    "# featurelist  = the list of list of features (independent variables) and 1 from B0 coefficient\n",
    "# nocoeffeatures = list of list of just features (indpendent variables) and no B0 coefficient\n",
    "# qualitylist = the list of strictly just quality of wine value\n",
    "# alltgt = list of lists of features and final wine quality value\n",
    "\n",
    "from sklearn import preprocessing\n",
    "\n",
    "scale = preprocessing.scale(alltgt)\n",
    "\n",
    "featuredict = {\"fixed acidity\" : 0,\"volatile acidity\" : 0,\"citric acid\" : 0,\"residual sugar\" : 0,\n",
    "               \"chlorides\" : 0,\"free sulfur dioxide\" : 0,\"total sulfur dioxide\" : 0,\"density\" : 0,\n",
    "               \"pH\" : 0,\"sulphates\" : 0,\"alcohol\" : 0,\"quality\" : 0}\n",
    "\n",
    "for i in alltgt:\n",
    "    featuredict.update({\"fixed acidity\": featuredict.get(\"fixed acidity\") + i[0]})\n",
    "    featuredict.update({\"volatile acidity\": featuredict.get(\"volatile acidity\") + i[1]})\n",
    "    featuredict.update({\"citric acid\": featuredict.get(\"citric acid\") + i[2]})\n",
    "    featuredict.update({\"residual sugar\": featuredict.get(\"residual sugar\") + i[3]})\n",
    "    featuredict.update({\"chlorides\": featuredict.get(\"chlorides\") + i[4]})\n",
    "    featuredict.update({\"free sulfur dioxide\": featuredict.get(\"free sulfur dioxide\") + i[5]})\n",
    "    featuredict.update({\"total sulfur dioxide\": featuredict.get(\"total sulfur dioxide\") + i[6]})\n",
    "    featuredict.update({\"density\": featuredict.get(\"density\") + i[7]})\n",
    "    featuredict.update({\"pH\": featuredict.get(\"pH\") + i[8]})\n",
    "    featuredict.update({\"sulphates\": featuredict.get(\"sulphates\") + i[9]})\n",
    "    featuredict.update({\"alcohol\": featuredict.get(\"alcohol\") + i[10]})\n",
    "    featuredict.update({\"quality\": featuredict.get(\"quality\") + i[11]})\n",
    "    \n",
    "winenumber = len(new_data)\n",
    "    \n",
    "# calculating averages\n",
    "featuredict.update({\"fixed acidity\": featuredict.get(\"fixed acidity\") / winenumber})\n",
    "featuredict.update({\"volatile acidity\": featuredict.get(\"volatile acidity\") / winenumber})\n",
    "featuredict.update({\"citric acid\": featuredict.get(\"citric acid\") / winenumber})\n",
    "featuredict.update({\"residual sugar\": featuredict.get(\"residual sugar\") / winenumber})\n",
    "featuredict.update({\"chlorides\": featuredict.get(\"chlorides\") / winenumber})\n",
    "featuredict.update({\"free sulfur dioxide\": featuredict.get(\"free sulfur dioxide\") / winenumber})\n",
    "featuredict.update({\"total sulfur dioxide\": featuredict.get(\"total sulfur dioxide\") / winenumber})\n",
    "featuredict.update({\"density\": featuredict.get(\"density\") / winenumber})\n",
    "featuredict.update({\"pH\": featuredict.get(\"pH\") / winenumber})\n",
    "featuredict.update({\"sulphates\": featuredict.get(\"sulphates\") / winenumber})\n",
    "featuredict.update({\"alcohol\": featuredict.get(\"alcohol\") / winenumber})\n",
    "featuredict.update({\"quality\": featuredict.get(\"quality\") / winenumber})\n",
    "\n",
    "qualitymean = featuredict.get(\"quality\")\n",
    "\n",
    "print(featuredict)\n",
    "\n",
    "# calculating std\n",
    "featuredict.update({\"fixed acidity\": (alltgt[0][0] - featuredict.get(\"fixed acidity\")) / scale[0][0]})\n",
    "featuredict.update({\"volatile acidity\": (alltgt[0][1] - featuredict.get(\"volatile acidity\")) / scale[0][1]})\n",
    "featuredict.update({\"citric acid\": (alltgt[0][2] - featuredict.get(\"citric acid\")) / scale[0][2]})\n",
    "featuredict.update({\"residual sugar\": (alltgt[0][3] - featuredict.get(\"residual sugar\")) / scale[0][3]})\n",
    "featuredict.update({\"chlorides\": (alltgt[0][4] - featuredict.get(\"chlorides\")) / scale[0][4]})\n",
    "featuredict.update({\"free sulfur dioxide\": (alltgt[0][5] - featuredict.get(\"free sulfur dioxide\")) / scale[0][5]})\n",
    "featuredict.update({\"total sulfur dioxide\": (alltgt[0][6] - featuredict.get(\"total sulfur dioxide\")) / scale[0][6]})\n",
    "featuredict.update({\"density\": (alltgt[0][7] - featuredict.get(\"density\")) / scale[0][7]})\n",
    "featuredict.update({\"pH\": (alltgt[0][8] - featuredict.get(\"pH\")) / scale[0][8]})\n",
    "featuredict.update({\"sulphates\": (alltgt[0][9] - featuredict.get(\"sulphates\")) / scale[0][9]})\n",
    "featuredict.update({\"alcohol\": (alltgt[0][10] - featuredict.get(\"alcohol\")) / scale[0][10]})\n",
    "featuredict.update({\"quality\": (alltgt[0][11] - featuredict.get(\"quality\")) / scale[0][11]})\n",
    "\n",
    "qualitystd = featuredict.get(\"quality\")\n",
    "\n",
    "print(featuredict)\n",
    "    \n",
    "\n",
    "\n"
   ]
  },
  {
   "cell_type": "markdown",
   "metadata": {},
   "source": [
    "## Analysis (Mean and Std)\n",
    "<b> In the above cell computation,  I tried to compute the mean and standard deviations for each of the independent and dependent variables upon scaling the features and qualities before performing ridge regression.  This is so that once we find the parameters based on the scaled values, we can rescale back to its original values to see exactly if our ridge regression has improved the prediction measure of quality through standardization. </b>"
   ]
  },
  {
   "cell_type": "code",
   "execution_count": 101,
   "metadata": {
    "scrolled": true
   },
   "outputs": [
    {
     "name": "stdout",
     "output_type": "stream",
     "text": [
      "[1, -0.5283596117263334, 0.961876671245448, -1.3914722776605748, -0.4532184067380521, -0.24370668659232497, -0.4661925171277333, -0.37913268889591295, 0.5582744625315024, 1.2886429167098845, -0.5792065221278808, -0.9602461068947287]\n",
      "[5203.945466004767, 5203.054298953281, 5202.192651583086, 5201.359098198625, 5200.552329980326, 5199.77114257382, 5199.0144252340415, 5198.281151303581, 5197.570369838721, 5196.881198225495, 5196.212815653239, 5195.564457331192, 5194.935409352499, 5194.3250041221345, 5193.732616278474, 5193.157659047098, 5192.59958097466, 5192.057862997157, 5191.532015803312, 5191.0215774590915, 5190.526111263185, 5190.045203808066, 5189.578463223349, 5189.125517582256, 5188.686013452957, 5188.259614580203, 5187.846000683108, 5187.444866357518, 5187.055920072375, 5186.678883250452, 5186.313489425556, 5185.959483468203, 5185.616620874125, 5185.284667108497, 5184.963397002102, 5184.652594193193, 5184.352050612221, 5184.0615660046105, 5183.7809474890455, 5183.510009147359, 5183.248571644001, 5182.996461872283, 5182.753512625136, 5182.519562288437, 5182.294454554883, 5182.078038157251, 5181.870166618728, 5181.670698019764, 5181.479494779615, 5181.2964234516685, 5181.121354531436, 5180.954162276498, 5180.794724537026, 5180.642922596682, 5180.498641022648, 5180.361767524596, 5180.232192821626, 5180.1098105164865, 5179.994516977333, 5179.8862112254865, 5179.7847948295985, 5179.690171805388, 5179.602248520696, 5179.520933605572, 5179.446137866764, 5179.377774207006, 5179.315757547853, 5179.260004756917, 5179.210434578035, 5179.1669675654175, 5179.1295260205525, 5179.0980339323805, 5179.072416919962, 5179.052602178128, 5179.038518425383, 5179.030095854124, 5179.027266083427, 5179.029962113351, 5179.038118281869, 5179.0516702231525, 5179.07055482775, 5179.094710204812, 5179.124075645215, 5179.1585915867845, 5179.19819958083, 5179.242842259572, 5179.292463305524, 5179.347007421673, 5179.40642030297, 5179.470648608617, 5179.53963993613, 5179.613342795407, 5179.691706584699, 5179.774681566704, 5179.862218846123, 5179.954270347623, 5180.050788794776, 5180.15172768985, 5180.257041293846, 5180.366684608027, 5180.48061335511, 5180.598783961969, 5180.721153542419, 5180.847679880665, 5180.978321415408, 5181.113037224398, 5181.251787009522, 5181.394531082247, 5181.541230349744, 5181.691846301293, 5181.846340995233, 5182.004677045928, 5182.166817611897, 5182.332726383536, 5182.502367571728, 5182.675705896338, 5182.8527065755725, 5183.033335315226, 5183.217558298506, 5183.405342175939, 5183.596654055739, 5183.791461494451, 5183.989732487576, 5184.19143546089, 5184.396539261815, 5184.605013150725, 5184.8168267930805, 5185.031950251251, 5185.250353976905, 5185.472008803396, 5185.696885938394, 5185.924956956845, 5186.156193793855, 5186.390568738002, 5186.628054424835, 5186.868623830188, 5187.112250264107, 5187.358907364615, 5187.608569091755, 5187.861209721955, 5188.116803842016, 5188.375326343837, 5188.636752419015, 5188.90105755325, 5189.168217521762, 5189.438208383731, 5189.7110064776425, 5189.986588416468, 5190.264931083052, 5190.5460116253, 5190.829807452008, 5191.116296228324, 5191.405455871529, 5191.697264546868, 5191.991700663471, 5192.2887428703025, 5192.588370052421, 5192.890561327039, 5193.19529603981, 5193.502553761156, 5193.8123142828435, 5194.124557614355, 5194.439263979451, 5194.7564138128755, 5195.075987757209, 5195.397966659381, 5195.722331567732, 5196.0490637289195, 5196.378144584895, 5196.709555769821, 5197.043279107413, 5197.379296607974, 5197.717590465567, 5198.058143055446, 5198.400936931178, 5198.745954822345, 5199.093179631653, 5199.4425944326285, 5199.794182467034, 5200.147927142593, 5200.50381203053, 5200.861820863175, 5201.221937531856, 5201.584146084537, 5201.948430723708, 5202.314775804147, 5202.683165830841, 5203.053585456958, 5203.426019481806, 5203.800452848683, 5204.17687064326, 5204.555258091189, 5204.935600556658, 5205.31788354022, 5205.702092677196, 5206.088213735678, 5206.476232614959, 5206.866135343673, 5207.257908078126]\n",
      "77\n"
     ]
    }
   ],
   "source": [
    "# alltgt = features + quality\n",
    "# scale = scaled version of features + quality\n",
    "\n",
    "# scaling\n",
    "scale = preprocessing.scale(alltgt)\n",
    "\n",
    "# scalefeat_withb0 = scaled features with b0 coefficient\n",
    "# scalefeat_nob0 = scaled features without b0 coefficient added\n",
    "# scalequality = the scaled quality scores of all the wine\n",
    "\n",
    "scalefeat_withb0 = []\n",
    "scalefeat_nob0 = []\n",
    "scalequality = []\n",
    "\n",
    "for i in range(len(scale)):\n",
    "    addone = [1]\n",
    "    addone.extend(scale[i][:11])\n",
    "    scalefeat_withb0.append(addone)\n",
    "    scalefeat_nob0.append(scale[i][:11])\n",
    "    scalequality.append(scale[i][11])\n",
    "    \n",
    "print(scalefeat_withb0[0])\n",
    "\n",
    "# tuning parameters from 1 to 200 by 2 steps\n",
    "tuningps = [i for i in range(1, 200)]\n",
    "\n",
    "# function for calculating the best tuning parameter\n",
    "errors = [0 for i in tuningps]    \n",
    "\n",
    "# we will use 10 repetitions\n",
    "for i in range(10):\n",
    "    sample1 = np.random.choice(len(scale), len(new_data) // 2, replace=False)\n",
    "    for j in tuningps:\n",
    "        # doing ridge on sample1\n",
    "        rxlist = []\n",
    "        rylist = []\n",
    "        \n",
    "        # creating matrices\n",
    "        for k in sample1:\n",
    "            rxlist.append(scale[k][:11])\n",
    "            rylist.append(scale[k][11])\n",
    "        rxmatrix = np.array(rxlist)\n",
    "        rymatrix = np.array(rylist)\n",
    "        \n",
    "        # performing ridge regression computation\n",
    "        reg = linear_model.Ridge(alpha=j)\n",
    "        reg.fit(rxmatrix, rymatrix)\n",
    "        modcoeffs = np.concatenate((reg.intercept_, reg.coef_), axis=None)\n",
    "        \n",
    "        # computing total error for each tuning parameter\n",
    "        for x in range(len(new_data)):\n",
    "            if x not in sample1:\n",
    "                estimate = np.matmul(modcoeffs, np.array(scalefeat_withb0[x]))\n",
    "                pointerror = (estimate - scale[x][11])**2\n",
    "                errindex = tuningps.index(j)\n",
    "                errors[errindex] += pointerror\n",
    "\n",
    "print(errors)\n",
    "print(tuningps[errors.index(min(errors))])\n",
    "    "
   ]
  },
  {
   "cell_type": "markdown",
   "metadata": {},
   "source": [
    "## Analysis\n",
    "<b> As you can see, there seems be to be a new tuning parameter that's the best now that we have standardized all our data, giving each feature equal weight into its influence on the quality of the wine, as well as allowing collinearity to be taken into account. Collinearity can be possible, with different amounts of citric acid in each wine could also mean it would correlate strongly with the fixed or volatile acidity.  However, these chemical conjectures are out of my field of expertise. In the following cell, we are going to create a plot to illustrate the estimation error against the tuning parameters from 1 to 200. </b>"
   ]
  },
  {
   "cell_type": "code",
   "execution_count": 102,
   "metadata": {},
   "outputs": [
    {
     "data": {
      "image/png": "[encoded data removed]",
      "text/plain": [
       "<Figure size 432x288 with 1 Axes>"
      ]
     },
     "metadata": {
      "needs_background": "light"
     },
     "output_type": "display_data"
    }
   ],
   "source": [
    "x = tuningps\n",
    "y = []\n",
    "for i in range(len(errors)):\n",
    "    y.append(errors[i])\n",
    "    \n",
    "\n",
    "plt.scatter(x, y, alpha=0.5)\n",
    "plt.title('Tuning Parameter vs. Error Comparison')\n",
    "plt.xlabel('Tuning Parameter')\n",
    "plt.ylabel('Total Error')\n",
    "plt.show()"
   ]
  },
  {
   "cell_type": "markdown",
   "metadata": {},
   "source": [
    "## Analysis\n",
    "<b>  This is very interesting.  The lowest error point in the above visualization with standardized is clear at around 77. Although the error is above 5000 and non-standardized ridge regression demonstrated an error around 3400, but the standard deviation for quality is 0.8 while it is 1 for standardized, which may explain a higher error rate. Our next step is to rescale every estimate we get from the standardized parameters to the scale wine quality is originally on and then graph their respective error estimates through the same algorithm. </b>"
   ]
  },
  {
   "cell_type": "code",
   "execution_count": 115,
   "metadata": {},
   "outputs": [
    {
     "data": {
      "image/png": "[encoded data removed]",
      "text/plain": [
       "<Figure size 432x288 with 1 Axes>"
      ]
     },
     "metadata": {
      "needs_background": "light"
     },
     "output_type": "display_data"
    }
   ],
   "source": [
    "# tuning parameters from 1 to 200 by 2 steps\n",
    "tuningps = [i for i in range(1, 200)]\n",
    "\n",
    "# function for calculating the best tuning parameter\n",
    "errors = [0 for i in tuningps]    \n",
    "\n",
    "# we will use 10 repetitions\n",
    "for i in range(10):\n",
    "    sample1 = np.random.choice(len(scale), len(new_data) // 2, replace=False)\n",
    "    for j in tuningps:\n",
    "        # doing ridge on sample1\n",
    "        rxlist = []\n",
    "        rylist = []\n",
    "        \n",
    "        # creating matrices\n",
    "        for k in sample1:\n",
    "            rxlist.append(scale[k][:11])\n",
    "            rylist.append(scale[k][11])\n",
    "        rxmatrix = np.array(rxlist)\n",
    "        rymatrix = np.array(rylist)\n",
    "        \n",
    "        # performing ridge regression computation\n",
    "        reg = linear_model.Ridge(alpha=j)\n",
    "        reg.fit(rxmatrix, rymatrix)\n",
    "        modcoeffs = np.concatenate((reg.intercept_, reg.coef_), axis=None)\n",
    "        \n",
    "        # computing total error for each tuning parameter\n",
    "        for x in range(len(new_data)):\n",
    "            if x not in sample1:\n",
    "                estimate = np.matmul(modcoeffs, np.array(scalefeat_withb0[x]))\n",
    "                pointerror = ((qualitymean + estimate * qualitystd) - qualitylist[x])**2 # key step in rescaling back to original quality scale\n",
    "                errindex = tuningps.index(j)\n",
    "                errors[errindex] += pointerror\n",
    "                \n",
    "                \n",
    "x = tuningps\n",
    "y = []\n",
    "for i in range(len(errors)):\n",
    "    y.append(errors[i])\n",
    "    \n",
    "\n",
    "plt.scatter(x, y, alpha=0.5)\n",
    "plt.title('Tuning Parameter vs. Error Comparison')\n",
    "plt.xlabel('Tuning Parameter')\n",
    "plt.ylabel('Total Error')\n",
    "plt.show()\n"
   ]
  },
  {
   "cell_type": "code",
   "execution_count": 116,
   "metadata": {},
   "outputs": [
    {
     "name": "stdout",
     "output_type": "stream",
     "text": [
      "[3392.5107028]\n",
      "54\n"
     ]
    }
   ],
   "source": [
    "print(min(errors))\n",
    "print(tuningps[errors.index(min(errors))])"
   ]
  },
  {
   "cell_type": "markdown",
   "metadata": {},
   "source": [
    "## Analysis \n",
    "<b> With this new rescaling back to the original quality score, we can see the shifted tuning parameter to 54 instead of 77. This is most likely due to the rescaling of the final estimation value in the end. Let's calculate the error of just the best tuning parameter given from rescaling back to the original quality scale, and then see how this compares to OLS. </b>"
   ]
  },
  {
   "cell_type": "code",
   "execution_count": 187,
   "metadata": {},
   "outputs": [
    {
     "name": "stdout",
     "output_type": "stream",
     "text": [
      "[666.80635897]\n",
      "[ 2.30487767e-14  6.41045370e-02 -2.29776034e-01 -2.74854878e-02\n",
      "  3.25479240e-02 -1.06717441e-01  5.05054128e-02 -1.27786898e-01\n",
      " -6.03360876e-02 -6.43207537e-02  1.88458755e-01  3.42983161e-01]\n",
      "5.330594597711394\n"
     ]
    }
   ],
   "source": [
    "# figure out undoing of standardization\n",
    "# featurelist  = the list of list of features (independent variables) and 1 from B0 coefficient\n",
    "# nocoeffeatures = list of list of just features (indpendent variables) and no B0 coefficient\n",
    "# qualitylist = the list of strictly just quality of wine value\n",
    "# alltgt = list of lists of features and final wine quality value\n",
    "\n",
    "# creating matrices for ridge\n",
    "rxmatrix = np.array(scalefeat_nob0)\n",
    "rymatrix = np.array(scalequality)\n",
    "\n",
    "# performing ridge regression computation\n",
    "reg = linear_model.Ridge(alpha=54)\n",
    "reg.fit(rxmatrix, rymatrix)\n",
    "modcoeffs = np.concatenate((reg.intercept_, reg.coef_), axis=None)\n",
    "\n",
    "best_error = 0\n",
    "\n",
    "# computing total error for each tuning parameter\n",
    "for x in range(len(new_data)):\n",
    "    estimate = np.matmul(modcoeffs, np.array(scalefeat_withb0[x]))\n",
    "    pointerror = ((qualitymean + estimate * qualitystd) - qualitylist[x])**2\n",
    "    best_error += pointerror\n",
    "        \n",
    "print(best_error)\n",
    "print(modcoeffs)\n",
    "print((qualitymean + np.matmul(modcoeffs, np.array(featurelist[0])) *qualitystd))"
   ]
  },
  {
   "cell_type": "code",
   "execution_count": 209,
   "metadata": {},
   "outputs": [
    {
     "name": "stdout",
     "output_type": "stream",
     "text": [
      "[666.41070039]\n"
     ]
    }
   ],
   "source": [
    "rxmatrix = np.array(nocoeffeatures)\n",
    "rymatrix = np.array(qualitylist)\n",
    "\n",
    "# performing ridge regression computation\n",
    "reg = linear_model.Ridge(alpha=0)\n",
    "reg.fit(rxmatrix, rymatrix)\n",
    "modcoeffs = np.concatenate((reg.intercept_, reg.coef_), axis=None)\n",
    "\n",
    "best_error = 0\n",
    "\n",
    "# computing total error for each tuning parameter\n",
    "for x in range(len(new_data)):\n",
    "    estimate = np.matmul(modcoeffs, np.array(featurelist[x]))\n",
    "    pointerror = (estimate - qualitylist[x])**2\n",
    "    best_error += pointerror\n",
    "\n",
    "print(best_error)"
   ]
  },
  {
   "cell_type": "markdown",
   "metadata": {},
   "source": [
    "## Analysis\n",
    "<b> Unfortunately, using standardization has not significantly improved the estimation we originally expected. The total error that was calculated from OLS was 666.41 while it is 666.8 for Ridge Regression.  After consulting help from SangWoo, I was informed of a new type of function, called RidgeCV, that apparently automates away cross-validation for me in order to find the best tuning parameter to use.  Not only will I adopt the new function RidgeCV, I will also use different ranges to try to gauge better tuning parameters </b>"
   ]
  },
  {
   "cell_type": "code",
   "execution_count": 183,
   "metadata": {},
   "outputs": [
    {
     "name": "stdout",
     "output_type": "stream",
     "text": [
      "0.23224489795918368\n",
      "[[ 0.0098708  -1.10187967 -0.19064872  0.00858782 -1.7372827   0.00449799\n",
      "  -0.00328069 -0.07433266 -0.48471252  0.87128535  0.29437211]]\n"
     ]
    },
    {
     "data": {
      "image/png": "[encoded data removed]",
      "text/plain": [
       "<Figure size 432x288 with 1 Axes>"
      ]
     },
     "metadata": {
      "needs_background": "light"
     },
     "output_type": "display_data"
    },
    {
     "data": {
      "image/png": "[encoded data removed]",
      "text/plain": [
       "<Figure size 432x288 with 1 Axes>"
      ]
     },
     "metadata": {
      "needs_background": "light"
     },
     "output_type": "display_data"
    },
    {
     "name": "stdout",
     "output_type": "stream",
     "text": [
      "0.42420047585907955\n"
     ]
    }
   ],
   "source": [
    "# featurelist  = the list of list of features (independent variables) and 1 from B0 coefficient\n",
    "# nocoeffeatures = list of list of just features (indpendent variables) and no B0 coefficient\n",
    "# qualitylist = the list of strictly just quality of wine value\n",
    "# alltgt = list of lists of features and final wine quality val\n",
    "\n",
    "# scalefeat_withb0 = scaled features with b0 coefficient\n",
    "# scalefeat_nob0 = scaled features without b0 coefficient added\n",
    "# scalequality = the scaled quality scores of all the wine\n",
    "\n",
    "\n",
    "from sklearn.linear_model import RidgeCV\n",
    "from sklearn.metrics import mean_squared_error\n",
    "\n",
    "alphalist = np.linspace(0.01, 1, num=50)\n",
    "\n",
    "X = np.array(nocoeffeatures)\n",
    "y = np.array(qualitylist)\n",
    "ridge1 = linear_model.RidgeCV(alphas=alphalist, store_cv_values=True)\n",
    "ridge1.fit(X, y)\n",
    "print(ridge1.alpha_)\n",
    "print(ridge1.coef_)\n",
    "\n",
    "error_list = [0]*50\n",
    "\n",
    "for i in ridge1.cv_values_:\n",
    "    for j in range(len(error_list)):\n",
    "        error_list[j] += i[0][j]\n",
    "        \n",
    "\n",
    "\n",
    "\n",
    "x = alphalist\n",
    "y = error_list\n",
    "    \n",
    "\n",
    "plt.scatter(x, y, alpha=0.5)\n",
    "plt.title('Tuning Parameter vs. Error Comparison')\n",
    "plt.xlabel('Tuning Parameter')\n",
    "plt.ylabel('Total Error')\n",
    "plt.show()\n",
    "\n",
    "# computing mse error\n",
    "\n",
    "for k in range(len(error_list)):\n",
    "    error_list[k] = error_list[k] / 1599\n",
    "    \n",
    "\n",
    "x = alphalist\n",
    "y = error_list\n",
    "    \n",
    "\n",
    "plt.scatter(x, y, alpha=0.5)\n",
    "plt.title('Tuning Parameter vs. MSE Comparison')\n",
    "plt.xlabel('Tuning Parameter')\n",
    "plt.ylabel('MSE')\n",
    "plt.show()\n",
    "\n",
    "print(min(error_list))\n"
   ]
  },
  {
   "cell_type": "markdown",
   "metadata": {},
   "source": [
    "## Analysis\n",
    "<b> With the new built-in RidgeCV function I used, and the fact that I used decimal increments of alpha values between 0 to 1 instead of 1 to 200, you can see that there is indeed a dip for the best tuning parameter that produce the lowest mean squared error, and it is 0.23224489.  Well, before we conclude it is the best tuning parameter, let's extrapolate this technique to a larger range, from 1 to 200, and see how the graphs play out. </b>"
   ]
  },
  {
   "cell_type": "code",
   "execution_count": 184,
   "metadata": {},
   "outputs": [
    {
     "name": "stdout",
     "output_type": "stream",
     "text": [
      "1.0\n",
      "[[ 0.0134762  -1.10606693 -0.19832796  0.00754172 -1.34484932  0.00449295\n",
      "  -0.00321945 -0.02068421 -0.43768992  0.81780861  0.29833937]]\n"
     ]
    },
    {
     "data": {
      "image/png": "[encoded data removed]",
      "text/plain": [
       "<Figure size 432x288 with 1 Axes>"
      ]
     },
     "metadata": {
      "needs_background": "light"
     },
     "output_type": "display_data"
    },
    {
     "data": {
      "image/png": "[encoded data removed]",
      "text/plain": [
       "<Figure size 432x288 with 1 Axes>"
      ]
     },
     "metadata": {
      "needs_background": "light"
     },
     "output_type": "display_data"
    }
   ],
   "source": [
    "# featurelist  = the list of list of features (independent variables) and 1 from B0 coefficient\n",
    "# nocoeffeatures = list of list of just features (indpendent variables) and no B0 coefficient\n",
    "# qualitylist = the list of strictly just quality of wine value\n",
    "# alltgt = list of lists of features and final wine quality val\n",
    "\n",
    "# scalefeat_withb0 = scaled features with b0 coefficient\n",
    "# scalefeat_nob0 = scaled features without b0 coefficient added\n",
    "# scalequality = the scaled quality scores of all the wine\n",
    "\n",
    "\n",
    "from sklearn.linear_model import RidgeCV\n",
    "from sklearn.metrics import mean_squared_error\n",
    "\n",
    "# 1 to 200 by increments of 2\n",
    "\n",
    "alphalist = np.linspace(1, 200, num=100)\n",
    "\n",
    "X = np.array(nocoeffeatures)\n",
    "y = np.array(qualitylist)\n",
    "ridge1 = linear_model.RidgeCV(alphas=alphalist, store_cv_values=True)\n",
    "ridge1.fit(X, y)\n",
    "print(ridge1.alpha_)\n",
    "print(ridge1.coef_)\n",
    "\n",
    "error_list = [0]*100\n",
    "\n",
    "for i in ridge1.cv_values_:\n",
    "    for j in range(len(error_list)):\n",
    "        error_list[j] += i[0][j]\n",
    "        \n",
    "\n",
    "\n",
    "\n",
    "x = alphalist\n",
    "y = error_list\n",
    "    \n",
    "\n",
    "plt.scatter(x, y, alpha=0.5)\n",
    "plt.title('Tuning Parameter vs. Error Comparison')\n",
    "plt.xlabel('Tuning Parameter')\n",
    "plt.ylabel('Total Error')\n",
    "plt.show()\n",
    "\n",
    "# computing mse error\n",
    "\n",
    "for k in range(len(error_list)):\n",
    "    error_list[k] = error_list[k] / 1599\n",
    "    \n",
    "\n",
    "x = alphalist\n",
    "y = error_list\n",
    "    \n",
    "\n",
    "plt.scatter(x, y, alpha=0.5)\n",
    "plt.title('Tuning Parameter vs. MSE Comparison')\n",
    "plt.xlabel('Tuning Parameter')\n",
    "plt.ylabel('MSE')\n",
    "plt.show()\n"
   ]
  },
  {
   "cell_type": "markdown",
   "metadata": {},
   "source": [
    "##  Analysis \n",
    "<b> Well, this looks familiar. It shows the exact same trend from when I did coded cross-validation manually, which means that 1) my coding is not incorrect and 2) the higher the parameter the less effective it is to reduce the MSE of the estimated parameters.  Which leads us to the final method, using normalization/standardization, which is also built in to this amazing RidgeCV function from sklearn! </b>"
   ]
  },
  {
   "cell_type": "code",
   "execution_count": 185,
   "metadata": {},
   "outputs": [
    {
     "name": "stdout",
     "output_type": "stream",
     "text": [
      "1.0\n",
      "[[ 0.05423638 -0.24004068 -0.04369892  0.02864414 -0.1091773   0.0563639\n",
      "  -0.13286872 -0.042314   -0.07869702  0.19228493  0.36395753]]\n"
     ]
    },
    {
     "data": {
      "image/png": "[encoded data removed]",
      "text/plain": [
       "<Figure size 432x288 with 1 Axes>"
      ]
     },
     "metadata": {
      "needs_background": "light"
     },
     "output_type": "display_data"
    },
    {
     "data": {
      "image/png": "[encoded data removed]",
      "text/plain": [
       "<Figure size 432x288 with 1 Axes>"
      ]
     },
     "metadata": {
      "needs_background": "light"
     },
     "output_type": "display_data"
    }
   ],
   "source": [
    "from sklearn.linear_model import RidgeCV\n",
    "from sklearn.metrics import mean_squared_error\n",
    "\n",
    "# 1 to 200 by increments of 2\n",
    "\n",
    "from sklearn.preprocessing import StandardScaler\n",
    "\n",
    "# standardizing feature data\n",
    "\n",
    "scaler1 = StandardScaler()\n",
    "scaler1.fit(nocoeffeatures)\n",
    "featurecopy = nocoeffeatures.copy()\n",
    "rxmatrix = np.array(scaler1.transform(featurecopy))\n",
    "\n",
    "# standardizing quality values\n",
    "\n",
    "scaler2 = StandardScaler()\n",
    "scaler2.fit(qualitylist)\n",
    "qualitycopy = qualitylist.copy()\n",
    "rymatrix = np.array(scaler2.transform(qualitycopy))\n",
    "        \n",
    "# 0 to 1 by increments of 0.02\n",
    "\n",
    "alphalist = np.linspace(0.0001, 1, num=50)\n",
    "\n",
    "ridgen = linear_model.RidgeCV(alphas=alphalist, store_cv_values=True)\n",
    "ridgen.fit(rxmatrix, rymatrix)\n",
    "print(ridgen.alpha_)\n",
    "print(ridgen.coef_)\n",
    "\n",
    "error_list = [0]*50\n",
    "\n",
    "for i in ridgen.cv_values_:\n",
    "    for j in range(len(error_list)):\n",
    "        error_list[j] += i[0][j]\n",
    "        \n",
    "\n",
    "x = alphalist\n",
    "y = error_list\n",
    "    \n",
    "\n",
    "plt.scatter(x, y, alpha=0.5)\n",
    "plt.title('Tuning Parameter vs. Error Comparison')\n",
    "plt.xlabel('Tuning Parameter')\n",
    "plt.ylabel('Total Error')\n",
    "plt.show()\n",
    "\n",
    "# computing mse error\n",
    "\n",
    "for k in range(len(error_list)):\n",
    "    error_list[k] = error_list[k] / 1599\n",
    "    \n",
    "\n",
    "x = alphalist\n",
    "y = error_list\n",
    "    \n",
    "\n",
    "plt.scatter(x, y, alpha=0.5)\n",
    "plt.title('Tuning Parameter vs. MSE Comparison')\n",
    "plt.xlabel('Tuning Parameter')\n",
    "plt.ylabel('MSE')\n",
    "plt.show()\n",
    "\n",
    "\n",
    "\n"
   ]
  },
  {
   "cell_type": "markdown",
   "metadata": {},
   "source": [
    "## Analysis\n",
    "<b> The graph is interesting, as the slope seems to continually go downward as alpha increases without stopping.  This makes a little sense, since when we standardized the data before using our manually coded cross validation algorithm, the dip occurred around 50, which meant that the graph above can be the snippet of the trend from 0 to 1 as it heads toward a minimum later when we investigate tuning parameters from 1 to 200. </b>"
   ]
  },
  {
   "cell_type": "code",
   "execution_count": 186,
   "metadata": {},
   "outputs": [
    {
     "name": "stdout",
     "output_type": "stream",
     "text": [
      "65.32323232323232\n",
      "[[ 0.064913   -0.22787596 -0.02446627  0.0329163  -0.1062228   0.04940442\n",
      "  -0.12681011 -0.06266889 -0.06217932  0.18748929  0.33950988]]\n"
     ]
    },
    {
     "data": {
      "image/png": "[encoded data removed]",
      "text/plain": [
       "<Figure size 432x288 with 1 Axes>"
      ]
     },
     "metadata": {
      "needs_background": "light"
     },
     "output_type": "display_data"
    },
    {
     "data": {
      "image/png": "[encoded data removed]",
      "text/plain": [
       "<Figure size 432x288 with 1 Axes>"
      ]
     },
     "metadata": {
      "needs_background": "light"
     },
     "output_type": "display_data"
    }
   ],
   "source": [
    "# featurelist  = the list of list of features (independent variables) and 1 from B0 coefficient\n",
    "# nocoeffeatures = list of list of just features (indpendent variables) and no B0 coefficient\n",
    "# qualitylist = the list of strictly just quality of wine value\n",
    "# alltgt = list of lists of features and final wine quality val\n",
    "\n",
    "# scalefeat_withb0 = scaled features with b0 coefficient\n",
    "# scalefeat_nob0 = scaled features without b0 coefficient added\n",
    "# scalequality = the scaled quality scores of all the wine\n",
    "\n",
    "\n",
    "\n",
    "# now it is 1 to 200 by increments of 2\n",
    "alphalist = np.linspace(1, 200, num=100)\n",
    "\n",
    "ridgen = linear_model.RidgeCV(alphas=alphalist, store_cv_values=True)\n",
    "ridgen.fit(rxmatrix, rymatrix)\n",
    "print(ridgen.alpha_)\n",
    "print(ridgen.coef_)\n",
    "\n",
    "error_list = [0]*100\n",
    "\n",
    "for i in ridgen.cv_values_:\n",
    "    for j in range(len(error_list)):\n",
    "        error_list[j] += i[0][j]\n",
    "        \n",
    "\n",
    "x = alphalist\n",
    "y = error_list\n",
    "    \n",
    "\n",
    "plt.scatter(x, y, alpha=0.5)\n",
    "plt.title('Tuning Parameter vs. Error Comparison')\n",
    "plt.xlabel('Tuning Parameter')\n",
    "plt.ylabel('Total Error')\n",
    "plt.show()\n",
    "\n",
    "# computing mse error\n",
    "\n",
    "for k in range(len(error_list)):\n",
    "    error_list[k] = error_list[k] / 1599\n",
    "    \n",
    "\n",
    "x = alphalist\n",
    "y = error_list\n",
    "    \n",
    "\n",
    "plt.scatter(x, y, alpha=0.5)\n",
    "plt.title('Tuning Parameter vs. MSE Comparison')\n",
    "plt.xlabel('Tuning Parameter')\n",
    "plt.ylabel('MSE')\n",
    "plt.show()\n",
    "\n",
    "\n"
   ]
  },
  {
   "cell_type": "markdown",
   "metadata": {},
   "source": [
    "## Analysis\n",
    "<b> Sure enough, this trend further shows that the manual coding I did for the leave k-out cross validation algorithm was not incorrect, as the trend continute from 1 to 200 to a minimum value of around 65, which, although not 54 as computed manually, is close enough to demonstrate the same trend in tuning parameter selection. Our next step is to use the best tuning parameter from both non-standardized and standardized forms of ridge regression to compute the total residual error on the qualitylist dataset, then compare. </b>"
   ]
  },
  {
   "cell_type": "code",
   "execution_count": 214,
   "metadata": {},
   "outputs": [
    {
     "name": "stdout",
     "output_type": "stream",
     "text": [
      "[[ 0.0134762  -1.10606693 -0.19832796  0.00754172 -1.34484932  0.00449295\n",
      "  -0.00321945 -0.02068421 -0.43768992  0.81780861  0.29833937]]\n",
      "[667.52774379]\n",
      "[666.96490237]\n",
      "[[ 0.0134762  -1.10606693 -0.19832796  0.00754172 -1.34484932  0.00449295\n",
      "  -0.00321945 -0.02068421 -0.43768992  0.81780861  0.29833937]]\n",
      "[[ 0.064913   -0.22787596 -0.02446627  0.0329163  -0.1062228   0.04940442\n",
      "  -0.12681011 -0.06266889 -0.06217932  0.18748929  0.33950988]]\n"
     ]
    }
   ],
   "source": [
    "# ridge1 = nonstandardized model of ridge regression\n",
    "# ridgen = standardized model of ridge regression\n",
    "\n",
    "# featurelist  = the list of list of features (independent variables) and 1 from B0 coefficient\n",
    "# nocoeffeatures = list of list of just features (indpendent variables) and no B0 coefficient\n",
    "# qualitylist = the list of strictly just quality of wine value\n",
    "# alltgt = list of lists of features and final wine quality val\n",
    "\n",
    "# scalefeat_withb0 = scaled features with b0 coefficient\n",
    "# scalefeat_nob0 = scaled features without b0 coefficient added\n",
    "# scalequality = the scaled quality scores of all the wine\n",
    "\n",
    "newx = np.array(nocoeffeatures)\n",
    "newy = np.array(qualitylist)\n",
    "\n",
    "error_ridge1 = 0\n",
    "\n",
    "\n",
    "reg1 = linear_model.Ridge(alpha=ridge1.alpha_)\n",
    "reg1.fit(newx, newy)\n",
    "modcoeffs1 = np.concatenate((reg1.intercept_, reg1.coef_), axis=None)\n",
    "\n",
    "print(ridge1.coef_)\n",
    "\n",
    "# if ridge1.coef_ == reg1.coef_:\n",
    "    # print(True)\n",
    "# else:\n",
    "    # print(False)\n",
    "\n",
    "for x in range(len(new_data)):\n",
    "    estimate = np.matmul(modcoeffs1, np.array(featurelist[x]))\n",
    "    pointerror = (estimate - qualitylist[x])**2\n",
    "    error_ridge1 += pointerror\n",
    "\n",
    "print(error_ridge1)\n",
    "\n",
    "newx = np.array(scalefeat_nob0)\n",
    "newy = np.array(scalequality)\n",
    "\n",
    "error_ridgen = 0\n",
    "\n",
    "reg1 = linear_model.Ridge(alpha=ridgen.alpha_)\n",
    "reg1.fit(newx, newy)\n",
    "modcoeffs2 = np.concatenate((reg1.intercept_, reg1.coef_), axis=None)\n",
    "\n",
    "for x in range(len(new_data)):\n",
    "    estimate = np.matmul(modcoeffs2, np.array(scalefeat_withb0[x]))\n",
    "    pointerror = ((qualitymean + estimate * qualitystd) - qualitylist[x])**2 # key step in rescaling back to original quality scale\n",
    "    error_ridgen += pointerror\n",
    "\n",
    "print(error_ridgen)\n",
    "print(ridge1.coef_)\n",
    "print(ridgen.coef_)\n",
    "\n",
    "# write into excel spreadsheet\n",
    "\n",
    "df1 = pd.DataFrame(modcoeffs1, index=[\"B0\", \"fixed acidity\",\"volatile acidity\",\"citric acid\",\"residual sugar\",\"chlorides\",\"free sulfur dioxide\",\"total sulfur dioxide\",\"density\",\"pH\",\"sulphates\",\"alcohol\"], columns=[\"coefficients\"])\n",
    "df1.to_excel(\"Ridgeunnorm.xlsx\")\n",
    "df2 = pd.DataFrame(modcoeffs2, index=[\"B0\", \"fixed acidity\",\"volatile acidity\",\"citric acid\",\"residual sugar\",\"chlorides\",\"free sulfur dioxide\",\"total sulfur dioxide\",\"density\",\"pH\",\"sulphates\",\"alcohol\"], columns=[\"coefficients\"])\n",
    "df2.to_excel(\"Ridgenorm.xlsx\")\n"
   ]
  },
  {
   "cell_type": "markdown",
   "metadata": {},
   "source": [
    "## Analysis (Conclusion of Ridge Regression)\n",
    "<b> From extensive analysis by manually coding Leave k-out algorithm, to realizing the built in feature of RidgeCV, to finding new tuning parameter ranges, to selecting tuning parameters with the best MSE, and then finally comparing best tuning parameters through non-standardized and standardized methods of Ridge Regression, I have come to the conclusion that penalizing certain predictors may overall not lead to a significantly better linear model compared to OLS itself.  There are many reasons as to why this is.  From a conceptual standpoint, ridge regression generally works better if there are clear signs of collinearity between different predictors, and it is also also better if there are more predictor variables than there are observations.  OLS tends to overfit the data in the case that there are more predictors than there are observations.  However, in this case, there are around 1600 samples of wine, with only 12 predictors (including the B0 coefficient), which means that there is more than enough data points to prevent the OLS computed linear model to overfit dataset.  In addition, we can also safely assume that there is not a high correlation between the predictors since the reisdual error through extensive Ridge Regression has yielded little to no improvement of the total residual error (which in turn corresponds to MSE as well).  When we closely observe the parameters computed from Ridge Regression, we can see the non-standardized method penalized the density variable quite largely compared to OLS, which was also counteracted by a much smaller B0 coefficient.  In the standardized method of Ridge Regression, all the coefficients computed were scaled to be smaller and larger for some, since the standardization method increased the scale for some variables, for example chlorides, while it decreased the scale for others like total sulfur dioxide.  Overall, we see that the positive/negative relationships for each term from both OLS and Ridge Regression is the same, so the relationship between each independent variable to quality value are accurate. Next, we will look into Lasso regression.  Because I have done most of the heavy work in defining the procedures in cross-validation and tuning parameter selection, I will incorporate similar steps except use the built in LassoCV function. </b>"
   ]
  },
  {
   "cell_type": "markdown",
   "metadata": {},
   "source": [
    "# Lasso Regression Computation"
   ]
  },
  {
   "cell_type": "code",
   "execution_count": null,
   "metadata": {},
   "outputs": [],
   "source": [
    "from sklearn import linear_model, datasets\n",
    "lasso = linear_model.LassoCV()\n",
    "X_diabetes, y_diabetes = datasets.load_diabetes(return_X_y=True)\n",
    "lasso.fit(X_diabetes, y_diabetes)\n",
    "LassoCV()\n",
    "# The estimator chose automatically its lambda:\n",
    "lasso.alpha_\n",
    "0.00375"
   ]
  }
 ],
 "metadata": {
  "kernelspec": {
   "display_name": "Python 3",
   "language": "python",
   "name": "python3"
  },
  "language_info": {
   "codemirror_mode": {
    "name": "ipython",
    "version": 3
   },
   "file_extension": ".py",
   "mimetype": "text/x-python",
   "name": "python",
   "nbconvert_exporter": "python",
   "pygments_lexer": "ipython3",
   "version": "3.8.3"
  }
 },
 "nbformat": 4,
 "nbformat_minor": 4
}
